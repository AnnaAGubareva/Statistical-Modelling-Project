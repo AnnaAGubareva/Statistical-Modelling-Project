{
 "cells": [
  {
   "cell_type": "markdown",
   "metadata": {},
   "source": [
    "Build a regression model."
   ]
  },
  {
   "cell_type": "code",
   "execution_count": 12,
   "metadata": {},
   "outputs": [],
   "source": [
    "import numpy as np\n",
    "import pandas as pd\n",
    "import statsmodels.api as sm\n",
    "\n"
   ]
  },
  {
   "cell_type": "code",
   "execution_count": 13,
   "metadata": {},
   "outputs": [],
   "source": [
    "df = pd.read_csv(r\"C:\\Users\\Anna\\OneDrive\\Desktop\\LightHouseLabs Data Immerse\\Project 2\\Statistical-Modelling-Project\\csv_files\\citi_bike.csv\")\n",
    "\n",
    "X = df['difference_in_m_from_center']\n",
    "y = df['free_bikes']\n",
    "\n",
    "X = sm.add_constant(X)\n",
    "model = sm.OLS(y, X)\n",
    "results = model.fit()"
   ]
  },
  {
   "cell_type": "markdown",
   "metadata": {},
   "source": [
    "Provide model output and an interpretation of the results. "
   ]
  },
  {
   "cell_type": "code",
   "execution_count": 14,
   "metadata": {},
   "outputs": [
    {
     "name": "stdout",
     "output_type": "stream",
     "text": [
      "                            OLS Regression Results                            \n",
      "==============================================================================\n",
      "Dep. Variable:             free_bikes   R-squared:                       0.132\n",
      "Model:                            OLS   Adj. R-squared:                  0.114\n",
      "Method:                 Least Squares   F-statistic:                     7.276\n",
      "Date:                Mon, 05 Jun 2023   Prob (F-statistic):            0.00961\n",
      "Time:                        15:30:43   Log-Likelihood:                -169.93\n",
      "No. Observations:                  50   AIC:                             343.9\n",
      "Df Residuals:                      48   BIC:                             347.7\n",
      "Df Model:                           1                                         \n",
      "Covariance Type:            nonrobust                                         \n",
      "===============================================================================================\n",
      "                                  coef    std err          t      P>|t|      [0.025      0.975]\n",
      "-----------------------------------------------------------------------------------------------\n",
      "const                          13.9054      2.033      6.838      0.000       9.817      17.994\n",
      "difference_in_m_from_center    -0.0013      0.000     -2.697      0.010      -0.002      -0.000\n",
      "==============================================================================\n",
      "Omnibus:                       10.973   Durbin-Watson:                   1.891\n",
      "Prob(Omnibus):                  0.004   Jarque-Bera (JB):               10.954\n",
      "Skew:                           0.947   Prob(JB):                      0.00418\n",
      "Kurtosis:                       4.293   Cond. No.                     8.16e+03\n",
      "==============================================================================\n",
      "\n",
      "Notes:\n",
      "[1] Standard Errors assume that the covariance matrix of the errors is correctly specified.\n",
      "[2] The condition number is large, 8.16e+03. This might indicate that there are\n",
      "strong multicollinearity or other numerical problems.\n"
     ]
    }
   ],
   "source": [
    "print(results.summary())\n",
    "\n",
    "#results:R-squared value is 0.132, \n",
    "#which eans approximately 13.2% of the variance in free_bikes can be explained by distance from center\n",
    "\n",
    "#the coefficient for the constant term is 13.9054,\n",
    "#the coefficient for the independent variable (difference_in_m_from_center) is -0.0013\n",
    "\n",
    "#there is no enough eveedence to say that \"number of free bikes\" correlate to \"distance to center of the city\""
   ]
  },
  {
   "cell_type": "code",
   "execution_count": null,
   "metadata": {},
   "outputs": [],
   "source": []
  },
  {
   "cell_type": "markdown",
   "metadata": {},
   "source": [
    "# Stretch"
   ]
  },
  {
   "cell_type": "markdown",
   "metadata": {},
   "source": [
    "How can you turn the regression model into a classification model?"
   ]
  },
  {
   "cell_type": "code",
   "execution_count": null,
   "metadata": {},
   "outputs": [],
   "source": []
  }
 ],
 "metadata": {
  "kernelspec": {
   "display_name": "Python 3 (ipykernel)",
   "language": "python",
   "name": "python3"
  },
  "language_info": {
   "codemirror_mode": {
    "name": "ipython",
    "version": 3
   },
   "file_extension": ".py",
   "mimetype": "text/x-python",
   "name": "python",
   "nbconvert_exporter": "python",
   "pygments_lexer": "ipython3",
   "version": "3.10.9"
  }
 },
 "nbformat": 4,
 "nbformat_minor": 4
}
